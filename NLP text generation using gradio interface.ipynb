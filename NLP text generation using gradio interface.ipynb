{
 "cells": [
  {
   "cell_type": "code",
   "execution_count": 1,
   "id": "f135b2a7",
   "metadata": {},
   "outputs": [],
   "source": [
    "import numpy as np\n",
    "import pandas as pd\n",
    "import matplotlib.pyplot as plt\n",
    "import seaborn as sns"
   ]
  },
  {
   "cell_type": "code",
   "execution_count": 2,
   "id": "4cacf6ff",
   "metadata": {},
   "outputs": [],
   "source": [
    "import transformers"
   ]
  },
  {
   "cell_type": "code",
   "execution_count": 6,
   "id": "d2c704a9",
   "metadata": {},
   "outputs": [],
   "source": [
    "import tensorflow"
   ]
  },
  {
   "cell_type": "code",
   "execution_count": 3,
   "id": "2e33eb39",
   "metadata": {},
   "outputs": [],
   "source": [
    "from transformers import T5Tokenizer, T5Model"
   ]
  },
  {
   "cell_type": "code",
   "execution_count": 7,
   "id": "8ef1caf1",
   "metadata": {
    "scrolled": true
   },
   "outputs": [
    {
     "name": "stdout",
     "output_type": "stream",
     "text": [
      "^C\n"
     ]
    }
   ],
   "source": [
    "!pip3 install torch==1.10.0+cu113 torchvision==0.11.1+cu113 torchaudio==0.10.0+cu113 -f https://download.pytorch.org/whl/cu113/torch_stable.html\n"
   ]
  },
  {
   "cell_type": "code",
   "execution_count": 8,
   "id": "f5efd1db",
   "metadata": {},
   "outputs": [],
   "source": [
    "from transformers import pipeline"
   ]
  },
  {
   "cell_type": "code",
   "execution_count": 10,
   "id": "a1055f7e",
   "metadata": {},
   "outputs": [
    {
     "data": {
      "application/vnd.jupyter.widget-view+json": {
       "model_id": "ab9ed42f576e48ddbe5bb22570417570",
       "version_major": 2,
       "version_minor": 0
      },
      "text/plain": [
       "Downloading:   0%|          | 0.00/0.98k [00:00<?, ?B/s]"
      ]
     },
     "metadata": {},
     "output_type": "display_data"
    },
    {
     "data": {
      "application/vnd.jupyter.widget-view+json": {
       "model_id": "69f367e875af45d28429625ec8b71e0c",
       "version_major": 2,
       "version_minor": 0
      },
      "text/plain": [
       "Downloading:   0%|          | 0.00/502M [00:00<?, ?B/s]"
      ]
     },
     "metadata": {},
     "output_type": "display_data"
    },
    {
     "name": "stdout",
     "output_type": "stream",
     "text": [
      "Looking in links: https://download.pytorch.org/whl/cu113/torch_stable.html\n",
      "Collecting torch==1.10.0+cu113\n",
      "  Downloading https://download.pytorch.org/whl/cu113/torch-1.10.0%2Bcu113-cp38-cp38-win_amd64.whl (2442.4 MB)\n",
      "     -------------------------                1.6/2.4 GB 229.3 kB/s eta 1:02:46\n"
     ]
    },
    {
     "name": "stderr",
     "output_type": "stream",
     "text": [
      "ERROR: Exception:\n",
      "Traceback (most recent call last):\n",
      "  File \"c:\\users\\ali umar hasan\\anaconda3\\lib\\site-packages\\pip\\_vendor\\urllib3\\response.py\", line 435, in _error_catcher\n",
      "    yield\n",
      "  File \"c:\\users\\ali umar hasan\\anaconda3\\lib\\site-packages\\pip\\_vendor\\urllib3\\response.py\", line 516, in read\n",
      "    data = self._fp.read(amt) if not fp_closed else b\"\"\n",
      "  File \"c:\\users\\ali umar hasan\\anaconda3\\lib\\site-packages\\pip\\_vendor\\cachecontrol\\filewrapper.py\", line 90, in read\n",
      "    data = self.__fp.read(amt)\n",
      "  File \"c:\\users\\ali umar hasan\\anaconda3\\lib\\http\\client.py\", line 458, in read\n",
      "    n = self.readinto(b)\n",
      "  File \"c:\\users\\ali umar hasan\\anaconda3\\lib\\http\\client.py\", line 502, in readinto\n",
      "    n = self.fp.readinto(b)\n",
      "  File \"c:\\users\\ali umar hasan\\anaconda3\\lib\\socket.py\", line 669, in readinto\n",
      "    return self._sock.recv_into(b)\n",
      "  File \"c:\\users\\ali umar hasan\\anaconda3\\lib\\ssl.py\", line 1241, in recv_into\n",
      "    return self.read(nbytes, buffer)\n",
      "  File \"c:\\users\\ali umar hasan\\anaconda3\\lib\\ssl.py\", line 1099, in read\n",
      "    return self._sslobj.read(len, buffer)\n",
      "socket.timeout: The read operation timed out\n",
      "\n",
      "During handling of the above exception, another exception occurred:\n",
      "\n",
      "Traceback (most recent call last):\n",
      "  File \"c:\\users\\ali umar hasan\\anaconda3\\lib\\site-packages\\pip\\_internal\\cli\\base_command.py\", line 167, in exc_logging_wrapper\n",
      "    status = run_func(*args)\n",
      "  File \"c:\\users\\ali umar hasan\\anaconda3\\lib\\site-packages\\pip\\_internal\\cli\\req_command.py\", line 247, in wrapper\n",
      "    return func(self, options, args)\n",
      "  File \"c:\\users\\ali umar hasan\\anaconda3\\lib\\site-packages\\pip\\_internal\\commands\\install.py\", line 369, in run\n",
      "    requirement_set = resolver.resolve(\n",
      "  File \"c:\\users\\ali umar hasan\\anaconda3\\lib\\site-packages\\pip\\_internal\\resolution\\resolvelib\\resolver.py\", line 92, in resolve\n",
      "    result = self._result = resolver.resolve(\n",
      "  File \"c:\\users\\ali umar hasan\\anaconda3\\lib\\site-packages\\pip\\_vendor\\resolvelib\\resolvers.py\", line 481, in resolve\n",
      "    state = resolution.resolve(requirements, max_rounds=max_rounds)\n",
      "  File \"c:\\users\\ali umar hasan\\anaconda3\\lib\\site-packages\\pip\\_vendor\\resolvelib\\resolvers.py\", line 348, in resolve\n",
      "    self._add_to_criteria(self.state.criteria, r, parent=None)\n",
      "  File \"c:\\users\\ali umar hasan\\anaconda3\\lib\\site-packages\\pip\\_vendor\\resolvelib\\resolvers.py\", line 172, in _add_to_criteria\n",
      "    if not criterion.candidates:\n",
      "  File \"c:\\users\\ali umar hasan\\anaconda3\\lib\\site-packages\\pip\\_vendor\\resolvelib\\structs.py\", line 151, in __bool__\n",
      "    return bool(self._sequence)\n",
      "  File \"c:\\users\\ali umar hasan\\anaconda3\\lib\\site-packages\\pip\\_internal\\resolution\\resolvelib\\found_candidates.py\", line 155, in __bool__\n",
      "    return any(self)\n",
      "  File \"c:\\users\\ali umar hasan\\anaconda3\\lib\\site-packages\\pip\\_internal\\resolution\\resolvelib\\found_candidates.py\", line 143, in <genexpr>\n",
      "    return (c for c in iterator if id(c) not in self._incompatible_ids)\n",
      "  File \"c:\\users\\ali umar hasan\\anaconda3\\lib\\site-packages\\pip\\_internal\\resolution\\resolvelib\\found_candidates.py\", line 47, in _iter_built\n",
      "    candidate = func()\n",
      "  File \"c:\\users\\ali umar hasan\\anaconda3\\lib\\site-packages\\pip\\_internal\\resolution\\resolvelib\\factory.py\", line 206, in _make_candidate_from_link\n",
      "    self._link_candidate_cache[link] = LinkCandidate(\n",
      "  File \"c:\\users\\ali umar hasan\\anaconda3\\lib\\site-packages\\pip\\_internal\\resolution\\resolvelib\\candidates.py\", line 297, in __init__\n",
      "    super().__init__(\n",
      "  File \"c:\\users\\ali umar hasan\\anaconda3\\lib\\site-packages\\pip\\_internal\\resolution\\resolvelib\\candidates.py\", line 162, in __init__\n",
      "    self.dist = self._prepare()\n",
      "  File \"c:\\users\\ali umar hasan\\anaconda3\\lib\\site-packages\\pip\\_internal\\resolution\\resolvelib\\candidates.py\", line 231, in _prepare\n",
      "    dist = self._prepare_distribution()\n",
      "  File \"c:\\users\\ali umar hasan\\anaconda3\\lib\\site-packages\\pip\\_internal\\resolution\\resolvelib\\candidates.py\", line 308, in _prepare_distribution\n",
      "    return preparer.prepare_linked_requirement(self._ireq, parallel_builds=True)\n",
      "  File \"c:\\users\\ali umar hasan\\anaconda3\\lib\\site-packages\\pip\\_internal\\operations\\prepare.py\", line 438, in prepare_linked_requirement\n",
      "    return self._prepare_linked_requirement(req, parallel_builds)\n",
      "  File \"c:\\users\\ali umar hasan\\anaconda3\\lib\\site-packages\\pip\\_internal\\operations\\prepare.py\", line 483, in _prepare_linked_requirement\n",
      "    local_file = unpack_url(\n",
      "  File \"c:\\users\\ali umar hasan\\anaconda3\\lib\\site-packages\\pip\\_internal\\operations\\prepare.py\", line 165, in unpack_url\n",
      "    file = get_http_url(\n",
      "  File \"c:\\users\\ali umar hasan\\anaconda3\\lib\\site-packages\\pip\\_internal\\operations\\prepare.py\", line 106, in get_http_url\n",
      "    from_path, content_type = download(link, temp_dir.path)\n",
      "  File \"c:\\users\\ali umar hasan\\anaconda3\\lib\\site-packages\\pip\\_internal\\network\\download.py\", line 147, in __call__\n",
      "    for chunk in chunks:\n",
      "  File \"c:\\users\\ali umar hasan\\anaconda3\\lib\\site-packages\\pip\\_internal\\cli\\progress_bars.py\", line 53, in _rich_progress_bar\n",
      "    for chunk in iterable:\n",
      "  File \"c:\\users\\ali umar hasan\\anaconda3\\lib\\site-packages\\pip\\_internal\\network\\utils.py\", line 63, in response_chunks\n",
      "    for chunk in response.raw.stream(\n",
      "  File \"c:\\users\\ali umar hasan\\anaconda3\\lib\\site-packages\\pip\\_vendor\\urllib3\\response.py\", line 573, in stream\n",
      "    data = self.read(amt=amt, decode_content=decode_content)\n",
      "  File \"c:\\users\\ali umar hasan\\anaconda3\\lib\\site-packages\\pip\\_vendor\\urllib3\\response.py\", line 538, in read\n",
      "    raise IncompleteRead(self._fp_bytes_read, self.length_remaining)\n",
      "  File \"c:\\users\\ali umar hasan\\anaconda3\\lib\\contextlib.py\", line 131, in __exit__\n",
      "    self.gen.throw(type, value, traceback)\n",
      "  File \"c:\\users\\ali umar hasan\\anaconda3\\lib\\site-packages\\pip\\_vendor\\urllib3\\response.py\", line 440, in _error_catcher\n",
      "    raise ReadTimeoutError(self._pool, None, \"Read timed out.\")\n",
      "pip._vendor.urllib3.exceptions.ReadTimeoutError: HTTPSConnectionPool(host='download.pytorch.org', port=443): Read timed out.\n"
     ]
    },
    {
     "data": {
      "application/vnd.jupyter.widget-view+json": {
       "model_id": "0fc8d1efd34f4ee78002de59f66c7c54",
       "version_major": 2,
       "version_minor": 0
      },
      "text/plain": [
       "Downloading:   0%|          | 0.00/560 [00:00<?, ?B/s]"
      ]
     },
     "metadata": {},
     "output_type": "display_data"
    },
    {
     "data": {
      "application/vnd.jupyter.widget-view+json": {
       "model_id": "ee2bf269100348b78408f03a13b1b92f",
       "version_major": 2,
       "version_minor": 0
      },
      "text/plain": [
       "Downloading:   0%|          | 0.00/878k [00:00<?, ?B/s]"
      ]
     },
     "metadata": {},
     "output_type": "display_data"
    },
    {
     "data": {
      "application/vnd.jupyter.widget-view+json": {
       "model_id": "48ddf971e66647fb8d8add8724b1106a",
       "version_major": 2,
       "version_minor": 0
      },
      "text/plain": [
       "Downloading:   0%|          | 0.00/446k [00:00<?, ?B/s]"
      ]
     },
     "metadata": {},
     "output_type": "display_data"
    },
    {
     "data": {
      "application/vnd.jupyter.widget-view+json": {
       "model_id": "59cf092dfda34bc5b5c926d57ba89cef",
       "version_major": 2,
       "version_minor": 0
      },
      "text/plain": [
       "Downloading:   0%|          | 0.00/357 [00:00<?, ?B/s]"
      ]
     },
     "metadata": {},
     "output_type": "display_data"
    }
   ],
   "source": [
    "generator = pipeline('text-generation', model ='EleutherAI/gpt-neo-125M')"
   ]
  },
  {
   "cell_type": "code",
   "execution_count": 14,
   "id": "f86a3ed4",
   "metadata": {},
   "outputs": [],
   "source": [
    "post = \"Artificial Intelligence a leading domain\""
   ]
  },
  {
   "cell_type": "code",
   "execution_count": 15,
   "id": "c6ff2ee4",
   "metadata": {},
   "outputs": [
    {
     "name": "stderr",
     "output_type": "stream",
     "text": [
      "Setting `pad_token_id` to `eos_token_id`:50256 for open-end generation.\n"
     ]
    }
   ],
   "source": [
    "result = generator(post, max_length=200, do_sample=True, temperature=0.9)"
   ]
  },
  {
   "cell_type": "code",
   "execution_count": 16,
   "id": "fd814971",
   "metadata": {},
   "outputs": [
    {
     "name": "stdout",
     "output_type": "stream",
     "text": [
      "[{'generated_text': \"Artificial Intelligence a leading domain\\n\\nBrief introduction for the AI community\\n\\nI am very happy that someone has agreed to join the AI community and I look forward to the feedback I get from them and the work they've done.\\n\\nI've come up with a list of ideas I think are worthy of discussion to further discussion in my next article. You can read about this in the first part of the article.\\n\\nI can't tell you how many times I've heard people complain of stupid, repetitive suggestions in an article about AI. I haven't seen them very often in any of the past 10+ years.\\n\\nThe main thing to remember for me here is that I'm too busy writing to write to. The AI community needs to be able to make changes. This is going to require some additional support from industry leaders. These changes have to happen on a very big scale.\\n\\nWhat I like is that I've seen the responses of some people as being\"}]\n"
     ]
    }
   ],
   "source": [
    "print(result)"
   ]
  },
  {
   "cell_type": "markdown",
   "id": "ccff8153",
   "metadata": {},
   "source": [
    "# By Using Gradio app "
   ]
  },
  {
   "cell_type": "code",
   "execution_count": 18,
   "id": "33e81828",
   "metadata": {},
   "outputs": [
    {
     "name": "stdout",
     "output_type": "stream",
     "text": [
      "^C\n"
     ]
    }
   ],
   "source": [
    "!pip install Gradio"
   ]
  },
  {
   "cell_type": "code",
   "execution_count": 23,
   "id": "d9946b51",
   "metadata": {
    "scrolled": false
   },
   "outputs": [
    {
     "name": "stdout",
     "output_type": "stream",
     "text": [
      "Collecting gradio\n",
      "  Downloading gradio-3.1.7-py3-none-any.whl (6.1 MB)\n",
      "     ---------------------------------------- 6.1/6.1 MB 29.7 kB/s eta 0:00:00\n",
      "Collecting uvicorn\n",
      "  Downloading uvicorn-0.18.3-py3-none-any.whl (57 kB)\n",
      "     --------------------------------------- 57.4/57.4 kB 68.6 kB/s eta 0:00:00\n",
      "Collecting orjson\n",
      "  Downloading orjson-3.7.12-cp38-none-win_amd64.whl (199 kB)\n",
      "     ------------------------------------- 199.4/199.4 kB 19.0 kB/s eta 0:00:00\n",
      "Requirement already satisfied: pillow in c:\\users\\ali umar hasan\\anaconda3\\lib\\site-packages (from gradio) (8.2.0)\n",
      "Collecting ffmpy\n",
      "  Downloading ffmpy-0.3.0.tar.gz (4.8 kB)\n",
      "  Preparing metadata (setup.py): started\n",
      "  Preparing metadata (setup.py): finished with status 'done'\n",
      "Collecting httpx\n",
      "  Downloading httpx-0.23.0-py3-none-any.whl (84 kB)\n",
      "     --------------------------------------- 84.8/84.8 kB 16.7 kB/s eta 0:00:00\n",
      "Collecting h11<0.13,>=0.11\n",
      "  Downloading h11-0.12.0-py3-none-any.whl (54 kB)\n",
      "     --------------------------------------- 54.9/54.9 kB 17.7 kB/s eta 0:00:00\n",
      "Collecting pycryptodome\n",
      "  Downloading pycryptodome-3.15.0-cp35-abi3-win_amd64.whl (1.9 MB)\n",
      "     ---------------------------------------- 1.9/1.9 MB 23.5 kB/s eta 0:00:00\n",
      "Collecting python-multipart\n",
      "  Using cached python-multipart-0.0.5.tar.gz (32 kB)\n",
      "  Preparing metadata (setup.py): started\n",
      "  Preparing metadata (setup.py): finished with status 'done'\n",
      "Requirement already satisfied: Jinja2 in c:\\users\\ali umar hasan\\anaconda3\\lib\\site-packages (from gradio) (2.11.3)\n",
      "Requirement already satisfied: pydantic in c:\\users\\ali umar hasan\\anaconda3\\lib\\site-packages (from gradio) (1.8.2)\n",
      "Requirement already satisfied: paramiko in c:\\users\\ali umar hasan\\anaconda3\\lib\\site-packages (from gradio) (2.7.2)\n",
      "Requirement already satisfied: pandas in c:\\users\\ali umar hasan\\anaconda3\\lib\\site-packages (from gradio) (1.2.4)\n",
      "Collecting pydub\n",
      "  Using cached pydub-0.25.1-py2.py3-none-any.whl (32 kB)\n",
      "Collecting markdown-it-py[linkify,plugins]\n",
      "  Using cached markdown_it_py-2.1.0-py3-none-any.whl (84 kB)\n",
      "Collecting analytics-python\n",
      "  Using cached analytics_python-1.4.0-py2.py3-none-any.whl (15 kB)\n",
      "Requirement already satisfied: requests in c:\\users\\ali umar hasan\\anaconda3\\lib\\site-packages (from gradio) (2.27.1)\n",
      "Requirement already satisfied: fsspec in c:\\users\\ali umar hasan\\anaconda3\\lib\\site-packages (from gradio) (2022.7.1)\n",
      "Collecting fastapi\n",
      "  Using cached fastapi-0.80.0-py3-none-any.whl (54 kB)\n",
      "Requirement already satisfied: aiohttp in c:\\users\\ali umar hasan\\anaconda3\\lib\\site-packages (from gradio) (3.8.1)\n",
      "Collecting websockets\n",
      "  Using cached websockets-10.3-cp38-cp38-win_amd64.whl (98 kB)\n",
      "Requirement already satisfied: matplotlib in c:\\users\\ali umar hasan\\anaconda3\\lib\\site-packages (from gradio) (3.3.4)\n",
      "Requirement already satisfied: numpy in c:\\users\\ali umar hasan\\anaconda3\\lib\\site-packages (from gradio) (1.20.1)\n",
      "Requirement already satisfied: attrs>=17.3.0 in c:\\users\\ali umar hasan\\anaconda3\\lib\\site-packages (from aiohttp->gradio) (20.3.0)\n",
      "Requirement already satisfied: multidict<7.0,>=4.5 in c:\\users\\ali umar hasan\\anaconda3\\lib\\site-packages (from aiohttp->gradio) (6.0.2)\n",
      "Requirement already satisfied: yarl<2.0,>=1.0 in c:\\users\\ali umar hasan\\anaconda3\\lib\\site-packages (from aiohttp->gradio) (1.8.1)\n",
      "Requirement already satisfied: frozenlist>=1.1.1 in c:\\users\\ali umar hasan\\anaconda3\\lib\\site-packages (from aiohttp->gradio) (1.3.1)\n",
      "Requirement already satisfied: aiosignal>=1.1.2 in c:\\users\\ali umar hasan\\anaconda3\\lib\\site-packages (from aiohttp->gradio) (1.2.0)\n",
      "Requirement already satisfied: async-timeout<5.0,>=4.0.0a3 in c:\\users\\ali umar hasan\\anaconda3\\lib\\site-packages (from aiohttp->gradio) (4.0.2)\n",
      "Requirement already satisfied: charset-normalizer<3.0,>=2.0 in c:\\users\\ali umar hasan\\anaconda3\\lib\\site-packages (from aiohttp->gradio) (2.0.11)\n",
      "Requirement already satisfied: six>=1.5 in c:\\users\\ali umar hasan\\anaconda3\\lib\\site-packages (from analytics-python->gradio) (1.15.0)\n",
      "Collecting monotonic>=1.5\n",
      "  Downloading monotonic-1.6-py2.py3-none-any.whl (8.2 kB)\n",
      "Collecting backoff==1.10.0\n",
      "  Downloading backoff-1.10.0-py2.py3-none-any.whl (31 kB)\n",
      "Requirement already satisfied: python-dateutil>2.1 in c:\\users\\ali umar hasan\\anaconda3\\lib\\site-packages (from analytics-python->gradio) (2.8.1)\n",
      "Requirement already satisfied: urllib3<1.27,>=1.21.1 in c:\\users\\ali umar hasan\\anaconda3\\lib\\site-packages (from requests->gradio) (1.26.11)\n",
      "Requirement already satisfied: idna<4,>=2.5 in c:\\users\\ali umar hasan\\anaconda3\\lib\\site-packages (from requests->gradio) (2.10)\n",
      "Requirement already satisfied: certifi>=2017.4.17 in c:\\users\\ali umar hasan\\anaconda3\\lib\\site-packages (from requests->gradio) (2020.12.5)\n",
      "Collecting starlette==0.19.1\n",
      "  Downloading starlette-0.19.1-py3-none-any.whl (63 kB)\n",
      "     --------------------------------------- 63.3/63.3 kB 37.3 kB/s eta 0:00:00\n",
      "Requirement already satisfied: typing-extensions>=3.10.0 in c:\\users\\ali umar hasan\\anaconda3\\lib\\site-packages (from starlette==0.19.1->fastapi->gradio) (4.3.0)\n",
      "Collecting anyio<5,>=3.4.0\n",
      "  Downloading anyio-3.6.1-py3-none-any.whl (80 kB)\n",
      "     --------------------------------------- 80.6/80.6 kB 37.2 kB/s eta 0:00:00\n",
      "Collecting rfc3986[idna2008]<2,>=1.3\n",
      "  Downloading rfc3986-1.5.0-py2.py3-none-any.whl (31 kB)\n",
      "Collecting httpcore<0.16.0,>=0.15.0\n",
      "  Downloading httpcore-0.15.0-py3-none-any.whl (68 kB)\n",
      "     --------------------------------------- 68.4/68.4 kB 95.4 kB/s eta 0:00:00\n",
      "Requirement already satisfied: sniffio in c:\\users\\ali umar hasan\\anaconda3\\lib\\site-packages (from httpx->gradio) (1.2.0)\n",
      "Requirement already satisfied: MarkupSafe>=0.23 in c:\\users\\ali umar hasan\\anaconda3\\lib\\site-packages (from Jinja2->gradio) (1.1.1)\n",
      "Collecting mdurl~=0.1\n",
      "  Downloading mdurl-0.1.2-py3-none-any.whl (10.0 kB)\n",
      "Collecting mdit-py-plugins\n",
      "  Downloading mdit_py_plugins-0.3.0-py3-none-any.whl (43 kB)\n",
      "     --------------------------------------- 43.7/43.7 kB 13.1 kB/s eta 0:00:00\n",
      "Collecting linkify-it-py~=1.0\n",
      "  Downloading linkify_it_py-1.0.3-py3-none-any.whl (19 kB)\n",
      "Requirement already satisfied: kiwisolver>=1.0.1 in c:\\users\\ali umar hasan\\anaconda3\\lib\\site-packages (from matplotlib->gradio) (1.3.1)\n",
      "Requirement already satisfied: cycler>=0.10 in c:\\users\\ali umar hasan\\anaconda3\\lib\\site-packages (from matplotlib->gradio) (0.10.0)\n",
      "Requirement already satisfied: pyparsing!=2.0.4,!=2.1.2,!=2.1.6,>=2.0.3 in c:\\users\\ali umar hasan\\anaconda3\\lib\\site-packages (from matplotlib->gradio) (2.4.7)\n",
      "Requirement already satisfied: pytz>=2017.3 in c:\\users\\ali umar hasan\\anaconda3\\lib\\site-packages (from pandas->gradio) (2021.1)\n",
      "Requirement already satisfied: cryptography>=2.5 in c:\\users\\ali umar hasan\\anaconda3\\lib\\site-packages (from paramiko->gradio) (3.4.7)\n",
      "Requirement already satisfied: bcrypt>=3.1.3 in c:\\users\\ali umar hasan\\anaconda3\\lib\\site-packages (from paramiko->gradio) (3.2.0)\n",
      "Requirement already satisfied: pynacl>=1.0.1 in c:\\users\\ali umar hasan\\anaconda3\\lib\\site-packages (from paramiko->gradio) (1.4.0)\n",
      "Requirement already satisfied: click>=7.0 in c:\\users\\ali umar hasan\\anaconda3\\lib\\site-packages (from uvicorn->gradio) (7.1.2)\n",
      "Requirement already satisfied: cffi>=1.1 in c:\\users\\ali umar hasan\\anaconda3\\lib\\site-packages (from bcrypt>=3.1.3->paramiko->gradio) (1.14.5)\n",
      "Collecting uc-micro-py\n",
      "  Downloading uc_micro_py-1.0.1-py3-none-any.whl (6.2 kB)\n",
      "Requirement already satisfied: pycparser in c:\\users\\ali umar hasan\\anaconda3\\lib\\site-packages (from cffi>=1.1->bcrypt>=3.1.3->paramiko->gradio) (2.20)\n",
      "Building wheels for collected packages: ffmpy, python-multipart\n",
      "  Building wheel for ffmpy (setup.py): started\n",
      "  Building wheel for ffmpy (setup.py): finished with status 'done'\n",
      "  Created wheel for ffmpy: filename=ffmpy-0.3.0-py3-none-any.whl size=4709 sha256=31e8221305f7b5f68343cb440d541234759afd55fa773e397dc058d96656dbb1\n",
      "  Stored in directory: c:\\users\\ali umar hasan\\appdata\\local\\pip\\cache\\wheels\\ff\\5b\\59\\913b443e7369dc04b61f607a746b6f7d83fb65e2e19fcc958d\n",
      "  Building wheel for python-multipart (setup.py): started\n",
      "  Building wheel for python-multipart (setup.py): finished with status 'done'\n",
      "  Created wheel for python-multipart: filename=python_multipart-0.0.5-py3-none-any.whl size=31679 sha256=f28e5fdacfc6efb16d64ac0331b8281d5d1cbb75151e44a5d49bfc208bc07553\n",
      "  Stored in directory: c:\\users\\ali umar hasan\\appdata\\local\\pip\\cache\\wheels\\9e\\fc\\1c\\cf980e6413d3ee8e70cd8f39e2366b0f487e3e221aeb452eb0\n",
      "Successfully built ffmpy python-multipart\n",
      "Installing collected packages: rfc3986, pydub, monotonic, ffmpy, websockets, uc-micro-py, python-multipart, pycryptodome, orjson, mdurl, h11, backoff, anyio, uvicorn, starlette, markdown-it-py, linkify-it-py, httpcore, analytics-python, mdit-py-plugins, httpx, fastapi, gradio\n",
      "  Attempting uninstall: anyio\n",
      "    Found existing installation: anyio 2.2.0\n",
      "    Uninstalling anyio-2.2.0:\n",
      "      Successfully uninstalled anyio-2.2.0\n",
      "Successfully installed analytics-python-1.4.0 anyio-3.6.1 backoff-1.10.0 fastapi-0.80.0 ffmpy-0.3.0 gradio-3.1.7 h11-0.12.0 httpcore-0.15.0 httpx-0.23.0 linkify-it-py-1.0.3 markdown-it-py-2.1.0 mdit-py-plugins-0.3.0 mdurl-0.1.2 monotonic-1.6 orjson-3.7.12 pycryptodome-3.15.0 pydub-0.25.1 python-multipart-0.0.5 rfc3986-1.5.0 starlette-0.19.1 uc-micro-py-1.0.1 uvicorn-0.18.3 websockets-10.3\n"
     ]
    },
    {
     "name": "stderr",
     "output_type": "stream",
     "text": [
      "WARNING: Retrying (Retry(total=4, connect=None, read=None, redirect=None, status=None)) after connection broken by 'ReadTimeoutError(\"HTTPSConnectionPool(host='pypi.org', port=443): Read timed out. (read timeout=15)\")': /simple/gradio/\n",
      "WARNING: Error parsing requirements for anyio: [Errno 2] No such file or directory: 'c:\\\\users\\\\ali umar hasan\\\\anaconda3\\\\lib\\\\site-packages\\\\anyio-2.2.0.dist-info\\\\METADATA'\n",
      "    WARNING: No metadata found in c:\\users\\ali umar hasan\\anaconda3\\lib\\site-packages\n"
     ]
    },
    {
     "name": "stdout",
     "output_type": "stream",
     "text": [
      "Collecting gradio\n",
      "  Downloading gradio-3.1.7-py3-none-any.whl (6.1 MB)\n",
      "     ---------------------------------------- 6.1/6.1 MB 20.2 kB/s eta 0:00:00\n",
      "Requirement already satisfied: Jinja2 in c:\\users\\ali umar hasan\\anaconda3\\lib\\site-packages (from gradio) (2.11.3)\n",
      "Collecting fastapi\n",
      "  Downloading fastapi-0.80.0-py3-none-any.whl (54 kB)\n",
      "     --------------------------------------- 54.8/54.8 kB 27.7 kB/s eta 0:00:00\n",
      "Requirement already satisfied: paramiko in c:\\users\\ali umar hasan\\anaconda3\\lib\\site-packages (from gradio) (2.7.2)\n",
      "Collecting orjson\n",
      "  Using cached orjson-3.7.12-cp38-none-win_amd64.whl (199 kB)\n",
      "Collecting httpx\n",
      "  Using cached httpx-0.23.0-py3-none-any.whl (84 kB)\n",
      "Requirement already satisfied: aiohttp in c:\\users\\ali umar hasan\\anaconda3\\lib\\site-packages (from gradio) (3.8.1)\n",
      "Requirement already satisfied: fsspec in c:\\users\\ali umar hasan\\anaconda3\\lib\\site-packages (from gradio) (2022.7.1)\n",
      "Requirement already satisfied: requests in c:\\users\\ali umar hasan\\anaconda3\\lib\\site-packages (from gradio) (2.27.1)\n",
      "Collecting python-multipart\n",
      "  Downloading python-multipart-0.0.5.tar.gz (32 kB)\n",
      "  Preparing metadata (setup.py): started\n",
      "  Preparing metadata (setup.py): finished with status 'done'\n",
      "Requirement already satisfied: numpy in c:\\users\\ali umar hasan\\anaconda3\\lib\\site-packages (from gradio) (1.20.1)\n",
      "Collecting uvicorn\n",
      "  Using cached uvicorn-0.18.3-py3-none-any.whl (57 kB)\n",
      "Requirement already satisfied: pandas in c:\\users\\ali umar hasan\\anaconda3\\lib\\site-packages (from gradio) (1.2.4)\n",
      "Collecting markdown-it-py[linkify,plugins]\n",
      "  Downloading markdown_it_py-2.1.0-py3-none-any.whl (84 kB)\n",
      "     --------------------------------------- 84.5/84.5 kB 25.2 kB/s eta 0:00:00\n",
      "Collecting websockets\n",
      "  Downloading websockets-10.3-cp38-cp38-win_amd64.whl (98 kB)\n",
      "     --------------------------------------- 98.6/98.6 kB 17.2 kB/s eta 0:00:00\n",
      "Collecting pydub\n",
      "  Downloading pydub-0.25.1-py2.py3-none-any.whl (32 kB)\n",
      "Collecting analytics-python\n",
      "  Downloading analytics_python-1.4.0-py2.py3-none-any.whl (15 kB)\n",
      "Collecting h11<0.13,>=0.11\n",
      "  Using cached h11-0.12.0-py3-none-any.whl (54 kB)\n",
      "Requirement already satisfied: matplotlib in c:\\users\\ali umar hasan\\anaconda3\\lib\\site-packages (from gradio) (3.3.4)\n",
      "Requirement already satisfied: pillow in c:\\users\\ali umar hasan\\anaconda3\\lib\\site-packages (from gradio) (8.2.0)\n",
      "Collecting pycryptodome\n",
      "  Downloading pycryptodome-3.15.0-cp35-abi3-win_amd64.whl (1.9 MB)\n",
      "     ---------------------------------------- 1.9/1.9 MB 31.5 kB/s eta 0:00:00\n",
      "Requirement already satisfied: pydantic in c:\\users\\ali umar hasan\\anaconda3\\lib\\site-packages (from gradio) (1.8.2)\n",
      "Collecting ffmpy\n",
      "  Using cached ffmpy-0.3.0-py3-none-any.whl\n",
      "Requirement already satisfied: attrs>=17.3.0 in c:\\users\\ali umar hasan\\anaconda3\\lib\\site-packages (from aiohttp->gradio) (20.3.0)\n",
      "Requirement already satisfied: frozenlist>=1.1.1 in c:\\users\\ali umar hasan\\anaconda3\\lib\\site-packages (from aiohttp->gradio) (1.3.1)\n",
      "Requirement already satisfied: async-timeout<5.0,>=4.0.0a3 in c:\\users\\ali umar hasan\\anaconda3\\lib\\site-packages (from aiohttp->gradio) (4.0.2)\n",
      "Requirement already satisfied: charset-normalizer<3.0,>=2.0 in c:\\users\\ali umar hasan\\anaconda3\\lib\\site-packages (from aiohttp->gradio) (2.0.11)\n",
      "Requirement already satisfied: aiosignal>=1.1.2 in c:\\users\\ali umar hasan\\anaconda3\\lib\\site-packages (from aiohttp->gradio) (1.2.0)\n",
      "Requirement already satisfied: yarl<2.0,>=1.0 in c:\\users\\ali umar hasan\\anaconda3\\lib\\site-packages (from aiohttp->gradio) (1.8.1)\n",
      "Requirement already satisfied: multidict<7.0,>=4.5 in c:\\users\\ali umar hasan\\anaconda3\\lib\\site-packages (from aiohttp->gradio) (6.0.2)\n",
      "Requirement already satisfied: six>=1.5 in c:\\users\\ali umar hasan\\anaconda3\\lib\\site-packages (from analytics-python->gradio) (1.15.0)\n",
      "Requirement already satisfied: python-dateutil>2.1 in c:\\users\\ali umar hasan\\anaconda3\\lib\\site-packages (from analytics-python->gradio) (2.8.1)\n",
      "Collecting monotonic>=1.5\n",
      "  Using cached monotonic-1.6-py2.py3-none-any.whl (8.2 kB)\n",
      "Collecting backoff==1.10.0\n",
      "  Using cached backoff-1.10.0-py2.py3-none-any.whl (31 kB)\n",
      "Requirement already satisfied: urllib3<1.27,>=1.21.1 in c:\\users\\ali umar hasan\\anaconda3\\lib\\site-packages (from requests->gradio) (1.26.11)\n",
      "Requirement already satisfied: idna<4,>=2.5 in c:\\users\\ali umar hasan\\anaconda3\\lib\\site-packages (from requests->gradio) (2.10)\n",
      "Requirement already satisfied: certifi>=2017.4.17 in c:\\users\\ali umar hasan\\anaconda3\\lib\\site-packages (from requests->gradio) (2020.12.5)\n",
      "Collecting starlette==0.19.1\n",
      "  Using cached starlette-0.19.1-py3-none-any.whl (63 kB)\n",
      "Collecting anyio<5,>=3.4.0\n",
      "  Using cached anyio-3.6.1-py3-none-any.whl (80 kB)\n",
      "Requirement already satisfied: typing-extensions>=3.10.0 in c:\\users\\ali umar hasan\\anaconda3\\lib\\site-packages (from starlette==0.19.1->fastapi->gradio) (4.3.0)\n",
      "Requirement already satisfied: sniffio in c:\\users\\ali umar hasan\\anaconda3\\lib\\site-packages (from httpx->gradio) (1.2.0)\n",
      "Collecting rfc3986[idna2008]<2,>=1.3\n",
      "  Using cached rfc3986-1.5.0-py2.py3-none-any.whl (31 kB)\n",
      "Collecting httpcore<0.16.0,>=0.15.0\n",
      "  Using cached httpcore-0.15.0-py3-none-any.whl (68 kB)\n",
      "Requirement already satisfied: MarkupSafe>=0.23 in c:\\users\\ali umar hasan\\anaconda3\\lib\\site-packages (from Jinja2->gradio) (1.1.1)\n",
      "Collecting mdurl~=0.1\n",
      "  Using cached mdurl-0.1.2-py3-none-any.whl (10.0 kB)\n",
      "Collecting mdit-py-plugins\n",
      "  Using cached mdit_py_plugins-0.3.0-py3-none-any.whl (43 kB)\n",
      "Collecting linkify-it-py~=1.0\n",
      "  Using cached linkify_it_py-1.0.3-py3-none-any.whl (19 kB)\n",
      "Requirement already satisfied: cycler>=0.10 in c:\\users\\ali umar hasan\\anaconda3\\lib\\site-packages (from matplotlib->gradio) (0.10.0)\n",
      "Requirement already satisfied: pyparsing!=2.0.4,!=2.1.2,!=2.1.6,>=2.0.3 in c:\\users\\ali umar hasan\\anaconda3\\lib\\site-packages (from matplotlib->gradio) (2.4.7)\n",
      "Requirement already satisfied: kiwisolver>=1.0.1 in c:\\users\\ali umar hasan\\anaconda3\\lib\\site-packages (from matplotlib->gradio) (1.3.1)\n",
      "Requirement already satisfied: pytz>=2017.3 in c:\\users\\ali umar hasan\\anaconda3\\lib\\site-packages (from pandas->gradio) (2021.1)\n",
      "Requirement already satisfied: pynacl>=1.0.1 in c:\\users\\ali umar hasan\\anaconda3\\lib\\site-packages (from paramiko->gradio) (1.4.0)\n",
      "Requirement already satisfied: bcrypt>=3.1.3 in c:\\users\\ali umar hasan\\anaconda3\\lib\\site-packages (from paramiko->gradio) (3.2.0)\n",
      "Requirement already satisfied: cryptography>=2.5 in c:\\users\\ali umar hasan\\anaconda3\\lib\\site-packages (from paramiko->gradio) (3.4.7)\n",
      "Requirement already satisfied: click>=7.0 in c:\\users\\ali umar hasan\\anaconda3\\lib\\site-packages (from uvicorn->gradio) (7.1.2)\n",
      "Requirement already satisfied: cffi>=1.1 in c:\\users\\ali umar hasan\\anaconda3\\lib\\site-packages (from bcrypt>=3.1.3->paramiko->gradio) (1.14.5)\n",
      "Collecting uc-micro-py\n",
      "  Using cached uc_micro_py-1.0.1-py3-none-any.whl (6.2 kB)\n",
      "Requirement already satisfied: pycparser in c:\\users\\ali umar hasan\\anaconda3\\lib\\site-packages (from cffi>=1.1->bcrypt>=3.1.3->paramiko->gradio) (2.20)\n",
      "Building wheels for collected packages: python-multipart\n",
      "  Building wheel for python-multipart (setup.py): started\n",
      "  Building wheel for python-multipart (setup.py): finished with status 'done'\n",
      "  Created wheel for python-multipart: filename=python_multipart-0.0.5-py3-none-any.whl size=31679 sha256=33d9bf98efe51befd91c36fdaeaf5260dfc09f2a2952e9ab7f1df10d61fd39ac\n",
      "  Stored in directory: c:\\users\\ali umar hasan\\appdata\\local\\pip\\cache\\wheels\\9e\\fc\\1c\\cf980e6413d3ee8e70cd8f39e2366b0f487e3e221aeb452eb0\n",
      "Successfully built python-multipart\n",
      "Installing collected packages: rfc3986, pydub, monotonic, ffmpy, websockets, uc-micro-py, python-multipart, pycryptodome, orjson, mdurl, h11, backoff, anyio, uvicorn, starlette, markdown-it-py, linkify-it-py, httpcore, analytics-python, mdit-py-plugins, httpx, fastapi, gradio\n",
      "  Attempting uninstall: anyio\n",
      "    Found existing installation: anyio 2.2.0\n",
      "    Can't uninstall 'anyio'. No files were found to uninstall.\n",
      "Successfully installed analytics-python-1.4.0 anyio-3.6.1 backoff-1.10.0 fastapi-0.80.0 ffmpy-0.3.0 gradio-3.1.7 h11-0.12.0 httpcore-0.15.0 httpx-0.23.0 linkify-it-py-1.0.3 markdown-it-py-2.1.0 mdit-py-plugins-0.3.0 mdurl-0.1.2 monotonic-1.6 orjson-3.7.12 pycryptodome-3.15.0 pydub-0.25.1 python-multipart-0.0.5 rfc3986-1.5.0 starlette-0.19.1 uc-micro-py-1.0.1 uvicorn-0.18.3 websockets-10.3\n",
      "Collecting gradio\n",
      "  Downloading gradio-3.1.7-py3-none-any.whl (6.1 MB)\n",
      "     ---------------------------------------- 6.1/6.1 MB 36.9 kB/s eta 0:00:00\n",
      "Collecting ffmpy\n",
      "  Using cached ffmpy-0.3.0-py3-none-any.whl\n",
      "Collecting h11<0.13,>=0.11\n",
      "  Using cached h11-0.12.0-py3-none-any.whl (54 kB)\n",
      "Collecting markdown-it-py[linkify,plugins]\n",
      "  Using cached markdown_it_py-2.1.0-py3-none-any.whl (84 kB)\n",
      "Collecting fastapi\n",
      "  Using cached fastapi-0.80.0-py3-none-any.whl (54 kB)\n",
      "Collecting websockets\n",
      "  Using cached websockets-10.3-cp38-cp38-win_amd64.whl (98 kB)\n",
      "Collecting analytics-python\n",
      "  Using cached analytics_python-1.4.0-py2.py3-none-any.whl (15 kB)\n",
      "Requirement already satisfied: pillow in c:\\users\\ali umar hasan\\anaconda3\\lib\\site-packages (from gradio) (8.2.0)\n",
      "Collecting uvicorn\n",
      "  Using cached uvicorn-0.18.3-py3-none-any.whl (57 kB)\n",
      "Requirement already satisfied: fsspec in c:\\users\\ali umar hasan\\anaconda3\\lib\\site-packages (from gradio) (2022.7.1)\n",
      "Requirement already satisfied: numpy in c:\\users\\ali umar hasan\\anaconda3\\lib\\site-packages (from gradio) (1.20.1)\n",
      "Collecting pydub\n",
      "  Using cached pydub-0.25.1-py2.py3-none-any.whl (32 kB)\n",
      "Requirement already satisfied: matplotlib in c:\\users\\ali umar hasan\\anaconda3\\lib\\site-packages (from gradio) (3.3.4)\n",
      "Requirement already satisfied: pydantic in c:\\users\\ali umar hasan\\anaconda3\\lib\\site-packages (from gradio) (1.8.2)\n",
      "Requirement already satisfied: pandas in c:\\users\\ali umar hasan\\anaconda3\\lib\\site-packages (from gradio) (1.2.4)\n",
      "Collecting python-multipart\n",
      "  Using cached python_multipart-0.0.5-py3-none-any.whl\n",
      "Collecting pycryptodome\n",
      "  Using cached pycryptodome-3.15.0-cp35-abi3-win_amd64.whl (1.9 MB)\n",
      "Collecting orjson\n",
      "  Using cached orjson-3.7.12-cp38-none-win_amd64.whl (199 kB)\n",
      "Requirement already satisfied: paramiko in c:\\users\\ali umar hasan\\anaconda3\\lib\\site-packages (from gradio) (2.7.2)\n",
      "Collecting httpx\n",
      "  Using cached httpx-0.23.0-py3-none-any.whl (84 kB)\n",
      "Requirement already satisfied: requests in c:\\users\\ali umar hasan\\anaconda3\\lib\\site-packages (from gradio) (2.27.1)\n",
      "Requirement already satisfied: Jinja2 in c:\\users\\ali umar hasan\\anaconda3\\lib\\site-packages (from gradio) (2.11.3)\n",
      "Requirement already satisfied: aiohttp in c:\\users\\ali umar hasan\\anaconda3\\lib\\site-packages (from gradio) (3.8.1)\n",
      "Requirement already satisfied: aiosignal>=1.1.2 in c:\\users\\ali umar hasan\\anaconda3\\lib\\site-packages (from aiohttp->gradio) (1.2.0)\n",
      "Requirement already satisfied: multidict<7.0,>=4.5 in c:\\users\\ali umar hasan\\anaconda3\\lib\\site-packages (from aiohttp->gradio) (6.0.2)\n",
      "Requirement already satisfied: charset-normalizer<3.0,>=2.0 in c:\\users\\ali umar hasan\\anaconda3\\lib\\site-packages (from aiohttp->gradio) (2.0.11)\n",
      "Requirement already satisfied: frozenlist>=1.1.1 in c:\\users\\ali umar hasan\\anaconda3\\lib\\site-packages (from aiohttp->gradio) (1.3.1)\n",
      "Requirement already satisfied: attrs>=17.3.0 in c:\\users\\ali umar hasan\\anaconda3\\lib\\site-packages (from aiohttp->gradio) (20.3.0)\n",
      "Requirement already satisfied: yarl<2.0,>=1.0 in c:\\users\\ali umar hasan\\anaconda3\\lib\\site-packages (from aiohttp->gradio) (1.8.1)\n",
      "Requirement already satisfied: async-timeout<5.0,>=4.0.0a3 in c:\\users\\ali umar hasan\\anaconda3\\lib\\site-packages (from aiohttp->gradio) (4.0.2)\n",
      "Requirement already satisfied: six>=1.5 in c:\\users\\ali umar hasan\\anaconda3\\lib\\site-packages (from analytics-python->gradio) (1.15.0)\n",
      "Collecting backoff==1.10.0\n",
      "  Using cached backoff-1.10.0-py2.py3-none-any.whl (31 kB)\n",
      "Requirement already satisfied: python-dateutil>2.1 in c:\\users\\ali umar hasan\\anaconda3\\lib\\site-packages (from analytics-python->gradio) (2.8.1)\n",
      "Collecting monotonic>=1.5\n",
      "  Using cached monotonic-1.6-py2.py3-none-any.whl (8.2 kB)\n",
      "Requirement already satisfied: idna<4,>=2.5 in c:\\users\\ali umar hasan\\anaconda3\\lib\\site-packages (from requests->gradio) (2.10)\n",
      "Requirement already satisfied: certifi>=2017.4.17 in c:\\users\\ali umar hasan\\anaconda3\\lib\\site-packages (from requests->gradio) (2020.12.5)\n",
      "Requirement already satisfied: urllib3<1.27,>=1.21.1 in c:\\users\\ali umar hasan\\anaconda3\\lib\\site-packages (from requests->gradio) (1.26.11)\n",
      "Collecting starlette==0.19.1\n",
      "  Using cached starlette-0.19.1-py3-none-any.whl (63 kB)\n",
      "Requirement already satisfied: typing-extensions>=3.10.0 in c:\\users\\ali umar hasan\\anaconda3\\lib\\site-packages (from starlette==0.19.1->fastapi->gradio) (4.3.0)\n",
      "Collecting anyio<5,>=3.4.0\n",
      "  Using cached anyio-3.6.1-py3-none-any.whl (80 kB)\n",
      "Requirement already satisfied: sniffio in c:\\users\\ali umar hasan\\anaconda3\\lib\\site-packages (from httpx->gradio) (1.2.0)\n",
      "Collecting rfc3986[idna2008]<2,>=1.3\n",
      "  Using cached rfc3986-1.5.0-py2.py3-none-any.whl (31 kB)\n",
      "Collecting httpcore<0.16.0,>=0.15.0\n",
      "  Using cached httpcore-0.15.0-py3-none-any.whl (68 kB)\n",
      "Requirement already satisfied: MarkupSafe>=0.23 in c:\\users\\ali umar hasan\\anaconda3\\lib\\site-packages (from Jinja2->gradio) (1.1.1)\n",
      "Collecting mdurl~=0.1\n",
      "  Using cached mdurl-0.1.2-py3-none-any.whl (10.0 kB)\n",
      "Collecting linkify-it-py~=1.0\n",
      "  Using cached linkify_it_py-1.0.3-py3-none-any.whl (19 kB)\n",
      "Collecting mdit-py-plugins\n",
      "  Using cached mdit_py_plugins-0.3.0-py3-none-any.whl (43 kB)\n",
      "Requirement already satisfied: kiwisolver>=1.0.1 in c:\\users\\ali umar hasan\\anaconda3\\lib\\site-packages (from matplotlib->gradio) (1.3.1)\n",
      "Requirement already satisfied: cycler>=0.10 in c:\\users\\ali umar hasan\\anaconda3\\lib\\site-packages (from matplotlib->gradio) (0.10.0)\n",
      "Requirement already satisfied: pyparsing!=2.0.4,!=2.1.2,!=2.1.6,>=2.0.3 in c:\\users\\ali umar hasan\\anaconda3\\lib\\site-packages (from matplotlib->gradio) (2.4.7)\n",
      "Requirement already satisfied: pytz>=2017.3 in c:\\users\\ali umar hasan\\anaconda3\\lib\\site-packages (from pandas->gradio) (2021.1)\n",
      "Requirement already satisfied: bcrypt>=3.1.3 in c:\\users\\ali umar hasan\\anaconda3\\lib\\site-packages (from paramiko->gradio) (3.2.0)\n",
      "Requirement already satisfied: cryptography>=2.5 in c:\\users\\ali umar hasan\\anaconda3\\lib\\site-packages (from paramiko->gradio) (3.4.7)\n",
      "Requirement already satisfied: pynacl>=1.0.1 in c:\\users\\ali umar hasan\\anaconda3\\lib\\site-packages (from paramiko->gradio) (1.4.0)\n",
      "Requirement already satisfied: click>=7.0 in c:\\users\\ali umar hasan\\anaconda3\\lib\\site-packages (from uvicorn->gradio) (7.1.2)\n",
      "Requirement already satisfied: cffi>=1.1 in c:\\users\\ali umar hasan\\anaconda3\\lib\\site-packages (from bcrypt>=3.1.3->paramiko->gradio) (1.14.5)\n",
      "Collecting uc-micro-py\n",
      "  Using cached uc_micro_py-1.0.1-py3-none-any.whl (6.2 kB)\n",
      "Requirement already satisfied: pycparser in c:\\users\\ali umar hasan\\anaconda3\\lib\\site-packages (from cffi>=1.1->bcrypt>=3.1.3->paramiko->gradio) (2.20)\n",
      "Installing collected packages: rfc3986, pydub, monotonic, ffmpy, websockets, uc-micro-py, python-multipart, pycryptodome, orjson, mdurl, h11, backoff, anyio, uvicorn, starlette, markdown-it-py, linkify-it-py, httpcore, analytics-python, mdit-py-plugins, httpx, fastapi, gradio\n",
      "  Attempting uninstall: anyio\n",
      "    Found existing installation: anyio 2.2.0\n",
      "    Can't uninstall 'anyio'. No files were found to uninstall.\n",
      "Successfully installed analytics-python-1.4.0 anyio-3.6.1 backoff-1.10.0 fastapi-0.80.0 ffmpy-0.3.0 gradio-3.1.7 h11-0.12.0 httpcore-0.15.0 httpx-0.23.0 linkify-it-py-1.0.3 markdown-it-py-2.1.0 mdit-py-plugins-0.3.0 mdurl-0.1.2 monotonic-1.6 orjson-3.7.12 pycryptodome-3.15.0 pydub-0.25.1 python-multipart-0.0.5 rfc3986-1.5.0 starlette-0.19.1 uc-micro-py-1.0.1 uvicorn-0.18.3 websockets-10.3\n"
     ]
    },
    {
     "name": "stderr",
     "output_type": "stream",
     "text": [
      "WARNING: Error parsing requirements for anyio: [Errno 2] No such file or directory: 'c:\\\\users\\\\ali umar hasan\\\\anaconda3\\\\lib\\\\site-packages\\\\anyio-2.2.0.dist-info\\\\METADATA'\n",
      "    WARNING: No metadata found in c:\\users\\ali umar hasan\\anaconda3\\lib\\site-packages\n"
     ]
    },
    {
     "name": "stdout",
     "output_type": "stream",
     "text": [
      "Collecting gradio\n",
      "  Downloading gradio-3.1.7-py3-none-any.whl (6.1 MB)\n",
      "     ---------------------------------------- 6.1/6.1 MB 21.3 kB/s eta 0:00:00\n",
      "Collecting pycryptodome\n",
      "  Using cached pycryptodome-3.15.0-cp35-abi3-win_amd64.whl (1.9 MB)\n",
      "Collecting python-multipart\n",
      "  Using cached python_multipart-0.0.5-py3-none-any.whl\n",
      "Requirement already satisfied: matplotlib in c:\\users\\ali umar hasan\\anaconda3\\lib\\site-packages (from gradio) (3.3.4)\n",
      "Collecting ffmpy\n",
      "  Using cached ffmpy-0.3.0-py3-none-any.whl\n",
      "Requirement already satisfied: paramiko in c:\\users\\ali umar hasan\\anaconda3\\lib\\site-packages (from gradio) (2.7.2)\n",
      "Requirement already satisfied: fsspec in c:\\users\\ali umar hasan\\anaconda3\\lib\\site-packages (from gradio) (2022.7.1)\n",
      "Collecting markdown-it-py[linkify,plugins]\n",
      "  Using cached markdown_it_py-2.1.0-py3-none-any.whl (84 kB)\n",
      "Collecting fastapi\n",
      "  Using cached fastapi-0.80.0-py3-none-any.whl (54 kB)\n",
      "Requirement already satisfied: requests in c:\\users\\ali umar hasan\\anaconda3\\lib\\site-packages (from gradio) (2.27.1)\n",
      "Requirement already satisfied: aiohttp in c:\\users\\ali umar hasan\\anaconda3\\lib\\site-packages (from gradio) (3.8.1)\n",
      "Collecting httpx\n",
      "  Using cached httpx-0.23.0-py3-none-any.whl (84 kB)\n",
      "Requirement already satisfied: Jinja2 in c:\\users\\ali umar hasan\\anaconda3\\lib\\site-packages (from gradio) (2.11.3)\n",
      "Collecting orjson\n",
      "  Using cached orjson-3.7.12-cp38-none-win_amd64.whl (199 kB)\n",
      "Requirement already satisfied: pydantic in c:\\users\\ali umar hasan\\anaconda3\\lib\\site-packages (from gradio) (1.8.2)\n",
      "Collecting analytics-python\n",
      "  Using cached analytics_python-1.4.0-py2.py3-none-any.whl (15 kB)\n",
      "Requirement already satisfied: pandas in c:\\users\\ali umar hasan\\anaconda3\\lib\\site-packages (from gradio) (1.2.4)\n",
      "Collecting websockets\n",
      "  Using cached websockets-10.3-cp38-cp38-win_amd64.whl (98 kB)\n",
      "Collecting pydub\n",
      "  Using cached pydub-0.25.1-py2.py3-none-any.whl (32 kB)\n",
      "Requirement already satisfied: numpy in c:\\users\\ali umar hasan\\anaconda3\\lib\\site-packages (from gradio) (1.20.1)\n",
      "Collecting h11<0.13,>=0.11\n",
      "  Using cached h11-0.12.0-py3-none-any.whl (54 kB)\n",
      "Requirement already satisfied: pillow in c:\\users\\ali umar hasan\\anaconda3\\lib\\site-packages (from gradio) (8.2.0)\n",
      "Collecting uvicorn\n",
      "  Using cached uvicorn-0.18.3-py3-none-any.whl (57 kB)\n",
      "Requirement already satisfied: frozenlist>=1.1.1 in c:\\users\\ali umar hasan\\anaconda3\\lib\\site-packages (from aiohttp->gradio) (1.3.1)\n",
      "Requirement already satisfied: async-timeout<5.0,>=4.0.0a3 in c:\\users\\ali umar hasan\\anaconda3\\lib\\site-packages (from aiohttp->gradio) (4.0.2)\n",
      "Requirement already satisfied: charset-normalizer<3.0,>=2.0 in c:\\users\\ali umar hasan\\anaconda3\\lib\\site-packages (from aiohttp->gradio) (2.0.11)\n",
      "Requirement already satisfied: aiosignal>=1.1.2 in c:\\users\\ali umar hasan\\anaconda3\\lib\\site-packages (from aiohttp->gradio) (1.2.0)\n",
      "Requirement already satisfied: multidict<7.0,>=4.5 in c:\\users\\ali umar hasan\\anaconda3\\lib\\site-packages (from aiohttp->gradio) (6.0.2)\n",
      "Requirement already satisfied: yarl<2.0,>=1.0 in c:\\users\\ali umar hasan\\anaconda3\\lib\\site-packages (from aiohttp->gradio) (1.8.1)\n",
      "Requirement already satisfied: attrs>=17.3.0 in c:\\users\\ali umar hasan\\anaconda3\\lib\\site-packages (from aiohttp->gradio) (20.3.0)\n",
      "Collecting backoff==1.10.0\n",
      "  Using cached backoff-1.10.0-py2.py3-none-any.whl (31 kB)\n",
      "Requirement already satisfied: six>=1.5 in c:\\users\\ali umar hasan\\anaconda3\\lib\\site-packages (from analytics-python->gradio) (1.15.0)\n",
      "Collecting monotonic>=1.5\n",
      "  Using cached monotonic-1.6-py2.py3-none-any.whl (8.2 kB)\n",
      "Requirement already satisfied: python-dateutil>2.1 in c:\\users\\ali umar hasan\\anaconda3\\lib\\site-packages (from analytics-python->gradio) (2.8.1)\n",
      "Requirement already satisfied: idna<4,>=2.5 in c:\\users\\ali umar hasan\\anaconda3\\lib\\site-packages (from requests->gradio) (2.10)\n",
      "Requirement already satisfied: urllib3<1.27,>=1.21.1 in c:\\users\\ali umar hasan\\anaconda3\\lib\\site-packages (from requests->gradio) (1.26.11)\n",
      "Requirement already satisfied: certifi>=2017.4.17 in c:\\users\\ali umar hasan\\anaconda3\\lib\\site-packages (from requests->gradio) (2020.12.5)\n",
      "Collecting starlette==0.19.1\n",
      "  Using cached starlette-0.19.1-py3-none-any.whl (63 kB)\n",
      "Requirement already satisfied: typing-extensions>=3.10.0 in c:\\users\\ali umar hasan\\anaconda3\\lib\\site-packages (from starlette==0.19.1->fastapi->gradio) (4.3.0)\n",
      "Collecting anyio<5,>=3.4.0\n",
      "  Using cached anyio-3.6.1-py3-none-any.whl (80 kB)\n",
      "Collecting httpcore<0.16.0,>=0.15.0\n",
      "  Using cached httpcore-0.15.0-py3-none-any.whl (68 kB)\n",
      "Requirement already satisfied: sniffio in c:\\users\\ali umar hasan\\anaconda3\\lib\\site-packages (from httpx->gradio) (1.2.0)\n",
      "Collecting rfc3986[idna2008]<2,>=1.3\n",
      "  Using cached rfc3986-1.5.0-py2.py3-none-any.whl (31 kB)\n",
      "Requirement already satisfied: MarkupSafe>=0.23 in c:\\users\\ali umar hasan\\anaconda3\\lib\\site-packages (from Jinja2->gradio) (1.1.1)\n",
      "Collecting mdurl~=0.1\n",
      "  Using cached mdurl-0.1.2-py3-none-any.whl (10.0 kB)\n",
      "Collecting linkify-it-py~=1.0\n",
      "  Using cached linkify_it_py-1.0.3-py3-none-any.whl (19 kB)\n",
      "Collecting mdit-py-plugins\n",
      "  Using cached mdit_py_plugins-0.3.0-py3-none-any.whl (43 kB)\n",
      "Requirement already satisfied: kiwisolver>=1.0.1 in c:\\users\\ali umar hasan\\anaconda3\\lib\\site-packages (from matplotlib->gradio) (1.3.1)\n",
      "Requirement already satisfied: cycler>=0.10 in c:\\users\\ali umar hasan\\anaconda3\\lib\\site-packages (from matplotlib->gradio) (0.10.0)\n",
      "Requirement already satisfied: pyparsing!=2.0.4,!=2.1.2,!=2.1.6,>=2.0.3 in c:\\users\\ali umar hasan\\anaconda3\\lib\\site-packages (from matplotlib->gradio) (2.4.7)\n",
      "Requirement already satisfied: pytz>=2017.3 in c:\\users\\ali umar hasan\\anaconda3\\lib\\site-packages (from pandas->gradio) (2021.1)\n",
      "Requirement already satisfied: bcrypt>=3.1.3 in c:\\users\\ali umar hasan\\anaconda3\\lib\\site-packages (from paramiko->gradio) (3.2.0)\n",
      "Requirement already satisfied: cryptography>=2.5 in c:\\users\\ali umar hasan\\anaconda3\\lib\\site-packages (from paramiko->gradio) (3.4.7)\n",
      "Requirement already satisfied: pynacl>=1.0.1 in c:\\users\\ali umar hasan\\anaconda3\\lib\\site-packages (from paramiko->gradio) (1.4.0)\n",
      "Requirement already satisfied: click>=7.0 in c:\\users\\ali umar hasan\\anaconda3\\lib\\site-packages (from uvicorn->gradio) (7.1.2)\n",
      "Requirement already satisfied: cffi>=1.1 in c:\\users\\ali umar hasan\\anaconda3\\lib\\site-packages (from bcrypt>=3.1.3->paramiko->gradio) (1.14.5)\n",
      "Collecting uc-micro-py\n",
      "  Using cached uc_micro_py-1.0.1-py3-none-any.whl (6.2 kB)\n",
      "Requirement already satisfied: pycparser in c:\\users\\ali umar hasan\\anaconda3\\lib\\site-packages (from cffi>=1.1->bcrypt>=3.1.3->paramiko->gradio) (2.20)\n",
      "Installing collected packages: rfc3986, pydub, monotonic, ffmpy, websockets, uc-micro-py, python-multipart, pycryptodome, orjson, mdurl, h11, backoff, anyio, uvicorn, starlette, markdown-it-py, linkify-it-py, httpcore, analytics-python, mdit-py-plugins, httpx, fastapi, gradio\n",
      "  Attempting uninstall: anyio\n",
      "    Found existing installation: anyio 2.2.0\n",
      "    Can't uninstall 'anyio'. No files were found to uninstall.\n",
      "Successfully installed analytics-python-1.4.0 anyio-3.6.1 backoff-1.10.0 fastapi-0.80.0 ffmpy-0.3.0 gradio-3.1.7 h11-0.12.0 httpcore-0.15.0 httpx-0.23.0 linkify-it-py-1.0.3 markdown-it-py-2.1.0 mdit-py-plugins-0.3.0 mdurl-0.1.2 monotonic-1.6 orjson-3.7.12 pycryptodome-3.15.0 pydub-0.25.1 python-multipart-0.0.5 rfc3986-1.5.0 starlette-0.19.1 uc-micro-py-1.0.1 uvicorn-0.18.3 websockets-10.3\n"
     ]
    },
    {
     "name": "stderr",
     "output_type": "stream",
     "text": [
      "WARNING: Error parsing requirements for anyio: [Errno 2] No such file or directory: 'c:\\\\users\\\\ali umar hasan\\\\anaconda3\\\\lib\\\\site-packages\\\\anyio-2.2.0.dist-info\\\\METADATA'\n",
      "    WARNING: No metadata found in c:\\users\\ali umar hasan\\anaconda3\\lib\\site-packages\n"
     ]
    }
   ],
   "source": [
    "!pip install gradio"
   ]
  },
  {
   "cell_type": "code",
   "execution_count": 24,
   "id": "c77030cb",
   "metadata": {},
   "outputs": [],
   "source": [
    "import gradio as gr"
   ]
  },
  {
   "cell_type": "code",
   "execution_count": 25,
   "id": "fde02fcd",
   "metadata": {},
   "outputs": [],
   "source": [
    "def generate(post):\n",
    "    results = generator(post,max_length = 200, do_sample = True, temperature = 0.9)\n",
    "    print(results)"
   ]
  },
  {
   "cell_type": "code",
   "execution_count": null,
   "id": "54be79e4",
   "metadata": {},
   "outputs": [],
   "source": [
    "blog_inputs = gr.inputs.Textbox(lines=3, placeholder=\"Enter sentence to generate new posts...\")"
   ]
  },
  {
   "cell_type": "code",
   "execution_count": 27,
   "id": "a5cf1943",
   "metadata": {},
   "outputs": [
    {
     "name": "stderr",
     "output_type": "stream",
     "text": [
      "C:\\Users\\ali umar hasan\\anaconda3\\lib\\site-packages\\gradio\\inputs.py:26: UserWarning: Usage of gradio.inputs is deprecated, and will not be supported in the future, please import your component from gradio.components\n",
      "  warnings.warn(\n",
      "C:\\Users\\ali umar hasan\\anaconda3\\lib\\site-packages\\gradio\\deprecation.py:40: UserWarning: `optional` parameter is deprecated, and it has no effect\n",
      "  warnings.warn(value)\n",
      "C:\\Users\\ali umar hasan\\anaconda3\\lib\\site-packages\\gradio\\deprecation.py:40: UserWarning: `numeric` parameter is deprecated, and it has no effect\n",
      "  warnings.warn(value)\n",
      "C:\\Users\\ali umar hasan\\anaconda3\\lib\\site-packages\\gradio\\deprecation.py:40: UserWarning: The 'type' parameter has been deprecated. Use the Number component instead.\n",
      "  warnings.warn(value)\n"
     ]
    }
   ],
   "source": [
    "blog_inputs = gr.inputs.Textbox(lines = 6, placeholder = 'Enter Sentence to generate new posts..')"
   ]
  },
  {
   "cell_type": "code",
   "execution_count": null,
   "id": "e0049fde",
   "metadata": {},
   "outputs": [],
   "source": [
    "interface = gr.Interface(fn=generate, \n",
    "                        inputs=blog_inputs,\n",
    "                        outputs='text',\n",
    "                        title='AI based blog content generator')"
   ]
  },
  {
   "cell_type": "code",
   "execution_count": 28,
   "id": "c82532b2",
   "metadata": {},
   "outputs": [],
   "source": [
    "interface = gr.Interface(fn=generate, inputs = blog_inputs,\n",
    "                         outputs = 'text',\n",
    "                         title = 'AI based blog content generator')"
   ]
  },
  {
   "cell_type": "code",
   "execution_count": 30,
   "id": "c583d578",
   "metadata": {},
   "outputs": [
    {
     "name": "stdout",
     "output_type": "stream",
     "text": [
      "Rerunning server... use `close()` to stop if you need to change `launch()` parameters.\n",
      "----\n",
      "Running on local URL:  http://127.0.0.1:7860/\n",
      "\n",
      "To create a public link, set `share=True` in `launch()`.\n"
     ]
    },
    {
     "data": {
      "text/html": [
       "<div><iframe src=\"http://127.0.0.1:7860/\" width=\"900\" height=\"500\" allow=\"autoplay; camera; microphone;\" frameborder=\"0\" allowfullscreen></iframe></div>"
      ],
      "text/plain": [
       "<IPython.core.display.HTML object>"
      ]
     },
     "metadata": {},
     "output_type": "display_data"
    },
    {
     "data": {
      "text/plain": [
       "(<gradio.routes.App at 0x20d03552ac0>, 'http://127.0.0.1:7860/', None)"
      ]
     },
     "execution_count": 30,
     "metadata": {},
     "output_type": "execute_result"
    },
    {
     "name": "stderr",
     "output_type": "stream",
     "text": [
      "Setting `pad_token_id` to `eos_token_id`:50256 for open-end generation.\n"
     ]
    },
    {
     "name": "stdout",
     "output_type": "stream",
     "text": [
      "[{'generated_text': \"Ai is a leading domain name in the electronic domain name system known as Web 2.0. In the e-commerce industry, the name of the domain, e.g., “E-Commerce”, is commonly used as a domain name. E-Commerce refers to a website that the site is currently hosting, and that is, an e-branded web application that is designed to serve a user's web content on the web page, such as an e-commerce application. E-Commerce is typically one of several different types of e-commerce websites, some using different technologies to serve different types of content, and others using a template, such as a template that includes a form, a component, or a service component. For example, a website may have a template, such a template being a content type that the website is hosted on.\\nE-Commerce can be deployed via a web-enabled server, such as a computer or cloud, as a service, such\"}]\n"
     ]
    }
   ],
   "source": [
    "interface.launch()"
   ]
  },
  {
   "cell_type": "code",
   "execution_count": null,
   "id": "43520508",
   "metadata": {},
   "outputs": [],
   "source": []
  }
 ],
 "metadata": {
  "kernelspec": {
   "display_name": "Python 3",
   "language": "python",
   "name": "python3"
  },
  "language_info": {
   "codemirror_mode": {
    "name": "ipython",
    "version": 3
   },
   "file_extension": ".py",
   "mimetype": "text/x-python",
   "name": "python",
   "nbconvert_exporter": "python",
   "pygments_lexer": "ipython3",
   "version": "3.8.8"
  }
 },
 "nbformat": 4,
 "nbformat_minor": 5
}
