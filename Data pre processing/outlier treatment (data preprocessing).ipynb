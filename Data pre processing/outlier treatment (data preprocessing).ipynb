{
 "cells": [
  {
   "cell_type": "code",
   "execution_count": 19,
   "id": "c9b5142b",
   "metadata": {},
   "outputs": [],
   "source": [
    "#assignment statistical data visualization plots\n",
    "import numpy as np\n",
    "import pandas as pd\n",
    "import matplotlib.pyplot as plt"
   ]
  },
  {
   "cell_type": "code",
   "execution_count": 20,
   "id": "f1a7655f",
   "metadata": {},
   "outputs": [],
   "source": [
    "import seaborn as sns\n",
    "import os\n",
    "%matplotlib inline\n"
   ]
  },
  {
   "cell_type": "code",
   "execution_count": 21,
   "id": "d9449944",
   "metadata": {},
   "outputs": [
    {
     "data": {
      "text/plain": [
       "'C:\\\\Users\\\\D\\\\Downloads'"
      ]
     },
     "execution_count": 21,
     "metadata": {},
     "output_type": "execute_result"
    }
   ],
   "source": [
    "pwd "
   ]
  },
  {
   "cell_type": "code",
   "execution_count": 22,
   "id": "55a9bc16",
   "metadata": {},
   "outputs": [],
   "source": [
    "source = pd.read_csv(r'C:\\Users\\D\\Desktop\\New Assignments  Keys\\Datasets\\Q1_a.csv')"
   ]
  },
  {
   "cell_type": "code",
   "execution_count": 23,
   "id": "64564f82",
   "metadata": {},
   "outputs": [],
   "source": [
    "df1 = source"
   ]
  },
  {
   "cell_type": "code",
   "execution_count": 24,
   "id": "2de5a225",
   "metadata": {},
   "outputs": [
    {
     "data": {
      "text/html": [
       "<div>\n",
       "<style scoped>\n",
       "    .dataframe tbody tr th:only-of-type {\n",
       "        vertical-align: middle;\n",
       "    }\n",
       "\n",
       "    .dataframe tbody tr th {\n",
       "        vertical-align: top;\n",
       "    }\n",
       "\n",
       "    .dataframe thead th {\n",
       "        text-align: right;\n",
       "    }\n",
       "</style>\n",
       "<table border=\"1\" class=\"dataframe\">\n",
       "  <thead>\n",
       "    <tr style=\"text-align: right;\">\n",
       "      <th></th>\n",
       "      <th>Index</th>\n",
       "      <th>speed</th>\n",
       "      <th>dist</th>\n",
       "    </tr>\n",
       "  </thead>\n",
       "  <tbody>\n",
       "    <tr>\n",
       "      <th>0</th>\n",
       "      <td>1</td>\n",
       "      <td>4</td>\n",
       "      <td>2</td>\n",
       "    </tr>\n",
       "    <tr>\n",
       "      <th>1</th>\n",
       "      <td>2</td>\n",
       "      <td>4</td>\n",
       "      <td>10</td>\n",
       "    </tr>\n",
       "    <tr>\n",
       "      <th>2</th>\n",
       "      <td>3</td>\n",
       "      <td>7</td>\n",
       "      <td>4</td>\n",
       "    </tr>\n",
       "    <tr>\n",
       "      <th>3</th>\n",
       "      <td>4</td>\n",
       "      <td>7</td>\n",
       "      <td>22</td>\n",
       "    </tr>\n",
       "    <tr>\n",
       "      <th>4</th>\n",
       "      <td>5</td>\n",
       "      <td>8</td>\n",
       "      <td>16</td>\n",
       "    </tr>\n",
       "  </tbody>\n",
       "</table>\n",
       "</div>"
      ],
      "text/plain": [
       "   Index  speed  dist\n",
       "0      1      4     2\n",
       "1      2      4    10\n",
       "2      3      7     4\n",
       "3      4      7    22\n",
       "4      5      8    16"
      ]
     },
     "execution_count": 24,
     "metadata": {},
     "output_type": "execute_result"
    }
   ],
   "source": [
    "df1.head()"
   ]
  },
  {
   "cell_type": "code",
   "execution_count": 25,
   "id": "e188d3d0",
   "metadata": {},
   "outputs": [
    {
     "data": {
      "text/plain": [
       "0     2\n",
       "1    10\n",
       "2     4\n",
       "3    22\n",
       "4    16\n",
       "Name: dist, dtype: int64"
      ]
     },
     "execution_count": 25,
     "metadata": {},
     "output_type": "execute_result"
    }
   ],
   "source": [
    "df1['dist'].head()"
   ]
  },
  {
   "cell_type": "code",
   "execution_count": 26,
   "id": "7c0ed7f7",
   "metadata": {},
   "outputs": [
    {
     "data": {
      "text/html": [
       "<div>\n",
       "<style scoped>\n",
       "    .dataframe tbody tr th:only-of-type {\n",
       "        vertical-align: middle;\n",
       "    }\n",
       "\n",
       "    .dataframe tbody tr th {\n",
       "        vertical-align: top;\n",
       "    }\n",
       "\n",
       "    .dataframe thead th {\n",
       "        text-align: right;\n",
       "    }\n",
       "</style>\n",
       "<table border=\"1\" class=\"dataframe\">\n",
       "  <thead>\n",
       "    <tr style=\"text-align: right;\">\n",
       "      <th></th>\n",
       "      <th>Index</th>\n",
       "      <th>speed</th>\n",
       "      <th>dist</th>\n",
       "    </tr>\n",
       "  </thead>\n",
       "  <tbody>\n",
       "    <tr>\n",
       "      <th>count</th>\n",
       "      <td>50.00000</td>\n",
       "      <td>50.000000</td>\n",
       "      <td>50.000000</td>\n",
       "    </tr>\n",
       "    <tr>\n",
       "      <th>mean</th>\n",
       "      <td>25.50000</td>\n",
       "      <td>15.400000</td>\n",
       "      <td>42.980000</td>\n",
       "    </tr>\n",
       "    <tr>\n",
       "      <th>std</th>\n",
       "      <td>14.57738</td>\n",
       "      <td>5.287644</td>\n",
       "      <td>25.769377</td>\n",
       "    </tr>\n",
       "    <tr>\n",
       "      <th>min</th>\n",
       "      <td>1.00000</td>\n",
       "      <td>4.000000</td>\n",
       "      <td>2.000000</td>\n",
       "    </tr>\n",
       "    <tr>\n",
       "      <th>25%</th>\n",
       "      <td>13.25000</td>\n",
       "      <td>12.000000</td>\n",
       "      <td>26.000000</td>\n",
       "    </tr>\n",
       "    <tr>\n",
       "      <th>50%</th>\n",
       "      <td>25.50000</td>\n",
       "      <td>15.000000</td>\n",
       "      <td>36.000000</td>\n",
       "    </tr>\n",
       "    <tr>\n",
       "      <th>75%</th>\n",
       "      <td>37.75000</td>\n",
       "      <td>19.000000</td>\n",
       "      <td>56.000000</td>\n",
       "    </tr>\n",
       "    <tr>\n",
       "      <th>max</th>\n",
       "      <td>50.00000</td>\n",
       "      <td>25.000000</td>\n",
       "      <td>120.000000</td>\n",
       "    </tr>\n",
       "  </tbody>\n",
       "</table>\n",
       "</div>"
      ],
      "text/plain": [
       "          Index      speed        dist\n",
       "count  50.00000  50.000000   50.000000\n",
       "mean   25.50000  15.400000   42.980000\n",
       "std    14.57738   5.287644   25.769377\n",
       "min     1.00000   4.000000    2.000000\n",
       "25%    13.25000  12.000000   26.000000\n",
       "50%    25.50000  15.000000   36.000000\n",
       "75%    37.75000  19.000000   56.000000\n",
       "max    50.00000  25.000000  120.000000"
      ]
     },
     "execution_count": 26,
     "metadata": {},
     "output_type": "execute_result"
    }
   ],
   "source": [
    "#for the calculations of mean,standard deviation\n",
    "df1.describe()"
   ]
  },
  {
   "cell_type": "code",
   "execution_count": 27,
   "id": "1bcb4af3",
   "metadata": {},
   "outputs": [
    {
     "data": {
      "text/plain": [
       "27.4"
      ]
     },
     "execution_count": 27,
     "metadata": {},
     "output_type": "execute_result"
    }
   ],
   "source": [
    "#for the variance of speed\n",
    "import statistics\n",
    "statistics. pvariance(df1['speed'])\n",
    "\n"
   ]
  },
  {
   "cell_type": "code",
   "execution_count": 28,
   "id": "63cefdc1",
   "metadata": {},
   "outputs": [
    {
     "data": {
      "text/plain": [
       "15.0"
      ]
     },
     "execution_count": 28,
     "metadata": {},
     "output_type": "execute_result"
    }
   ],
   "source": [
    "#for the median of speed\n",
    "statistics.median(df1['speed'])"
   ]
  },
  {
   "cell_type": "code",
   "execution_count": 29,
   "id": "40c31f88",
   "metadata": {},
   "outputs": [
    {
     "data": {
      "text/plain": [
       "36.0"
      ]
     },
     "execution_count": 29,
     "metadata": {},
     "output_type": "execute_result"
    }
   ],
   "source": [
    "#for the median of dist\n",
    "statistics.median(df1['dist'])"
   ]
  },
  {
   "cell_type": "code",
   "execution_count": 30,
   "id": "e7f9bafb",
   "metadata": {},
   "outputs": [
    {
     "data": {
      "text/plain": [
       "650.7796000000001"
      ]
     },
     "execution_count": 30,
     "metadata": {},
     "output_type": "execute_result"
    }
   ],
   "source": [
    "#for the variance of dist\n",
    "statistics.pvariance(df1['dist'])"
   ]
  },
  {
   "cell_type": "code",
   "execution_count": 31,
   "id": "97e28fcf",
   "metadata": {},
   "outputs": [
    {
     "data": {
      "text/plain": [
       "Index    0\n",
       "speed    0\n",
       "dist     0\n",
       "dtype: int64"
      ]
     },
     "execution_count": 31,
     "metadata": {},
     "output_type": "execute_result"
    }
   ],
   "source": [
    "df1.isnull().sum()"
   ]
  },
  {
   "cell_type": "code",
   "execution_count": 32,
   "id": "21b13cb8",
   "metadata": {},
   "outputs": [],
   "source": [
    "%matplotlib inline"
   ]
  },
  {
   "cell_type": "code",
   "execution_count": 33,
   "id": "7869af42",
   "metadata": {},
   "outputs": [
    {
     "name": "stderr",
     "output_type": "stream",
     "text": [
      "C:\\Users\\D\\anaconda3\\lib\\site-packages\\seaborn\\_decorators.py:36: FutureWarning: Pass the following variable as a keyword arg: x. From version 0.12, the only valid positional argument will be `data`, and passing other arguments without an explicit keyword will result in an error or misinterpretation.\n",
      "  warnings.warn(\n"
     ]
    },
    {
     "data": {
      "image/png": "[encoded data removed]",
      "text/plain": [
       "<Figure size 432x288 with 1 Axes>"
      ]
     },
     "metadata": {
      "needs_background": "light"
     },
     "output_type": "display_data"
    }
   ],
   "source": [
    "sns.boxplot(df1.dist);plt.title('Boxplot');plt.show()"
   ]
  },
  {
   "cell_type": "code",
   "execution_count": 34,
   "id": "14719027",
   "metadata": {},
   "outputs": [],
   "source": [
    "IQR = df1['dist'].quantile(0.75) - df1['dist'].quantile(0.25) # IQR - Inter quartile range IQR = Q3-Q1\n",
    "lower_limit = df1['dist'].quantile(0.25) - (IQR * 1.5) # Q1 - 1.5 * IQR\n",
    "upper_limit = df1['dist'].quantile(0.75) + (IQR * 1.5) # Q3 + 1.5 * IQR"
   ]
  },
  {
   "cell_type": "code",
   "execution_count": 35,
   "id": "0eefa93d",
   "metadata": {},
   "outputs": [
    {
     "name": "stderr",
     "output_type": "stream",
     "text": [
      "C:\\Users\\D\\anaconda3\\lib\\site-packages\\seaborn\\_decorators.py:36: FutureWarning: Pass the following variable as a keyword arg: x. From version 0.12, the only valid positional argument will be `data`, and passing other arguments without an explicit keyword will result in an error or misinterpretation.\n",
      "  warnings.warn(\n"
     ]
    },
    {
     "data": {
      "image/png": "[encoded data removed]",
      "text/plain": [
       "<Figure size 432x288 with 1 Axes>"
      ]
     },
     "metadata": {
      "needs_background": "light"
     },
     "output_type": "display_data"
    }
   ],
   "source": [
    "outliers_df1 = np.where(df1['dist'] > upper_limit,True,np.where(df1['dist'] < lower_limit,True,False))\n",
    "# if value is greater than upper limit consider it as outliers and if the value is less than lower limit consider it as outliers\n",
    "df1_trimmed = df1.loc[~(outliers_df1),] # ~ means not - it shows all false value (not outliers)\n",
    "df1.shape, df1_trimmed.shape # we trim 12 outliers\n",
    "\n",
    "sns.boxplot(df1_trimmed.dist);plt.title('Boxplot');plt.show()\n"
   ]
  },
  {
   "cell_type": "code",
   "execution_count": 22,
   "id": "ba380185",
   "metadata": {},
   "outputs": [
    {
     "data": {
      "text/plain": [
       "<AxesSubplot:xlabel='speed'>"
      ]
     },
     "execution_count": 22,
     "metadata": {},
     "output_type": "execute_result"
    },
    {
     "data": {
      "image/png": "[encoded data removed]",
      "text/plain": [
       "<Figure size 432x288 with 1 Axes>"
      ]
     },
     "metadata": {
      "needs_background": "light"
     },
     "output_type": "display_data"
    }
   ],
   "source": [
    "#for the detection of outliers\n",
    "sns.boxplot(x = df1['speed'])"
   ]
  },
  {
   "cell_type": "code",
   "execution_count": 36,
   "id": "be2c7808",
   "metadata": {},
   "outputs": [
    {
     "data": {
      "image/png": "[encoded data removed]",
      "text/plain": [
       "<Figure size 432x288 with 1 Axes>"
      ]
     },
     "metadata": {
      "needs_background": "light"
     },
     "output_type": "display_data"
    }
   ],
   "source": [
    "df_in = sns.boxplot(y = df1['dist']) \n"
   ]
  },
  {
   "cell_type": "code",
   "execution_count": 37,
   "id": "f961eece",
   "metadata": {},
   "outputs": [],
   "source": [
    "\n",
    "def remove_outlier(df1):\n",
    "    q1 = df1['dist'].quantile(0.25)\n",
    "    q3 = df1['dist'].quantile(0.75)\n",
    "    iqr = q3-q1 #Interquartile range\n",
    "    fence_low  = q1-1.5*iqr\n",
    "    fence_high = q3+1.5*iqr\n",
    "    df_out = df1.loc[(df1['dist'] > fence_low) & (df1['dist'] < fence_high)]\n",
    "    return df_out"
   ]
  },
  {
   "cell_type": "code",
   "execution_count": 38,
   "id": "2c66510d",
   "metadata": {},
   "outputs": [],
   "source": [
    " outlier_removed = remove_outlier(df1)"
   ]
  },
  {
   "cell_type": "code",
   "execution_count": 39,
   "id": "9097f246",
   "metadata": {},
   "outputs": [
    {
     "name": "stdout",
     "output_type": "stream",
     "text": [
      "0       2\n",
      "1      10\n",
      "2       4\n",
      "3      22\n",
      "4      16\n",
      "5      10\n",
      "6      18\n",
      "7      26\n",
      "8      34\n",
      "9      17\n",
      "10     28\n",
      "11     14\n",
      "12     20\n",
      "13     24\n",
      "14     28\n",
      "15     26\n",
      "16     34\n",
      "17     34\n",
      "18     46\n",
      "19     26\n",
      "20     36\n",
      "21     60\n",
      "22     80\n",
      "23     20\n",
      "24     26\n",
      "25     54\n",
      "26     32\n",
      "27     40\n",
      "28     32\n",
      "29     40\n",
      "30     50\n",
      "31     42\n",
      "32     56\n",
      "33     76\n",
      "34     84\n",
      "35     36\n",
      "36     46\n",
      "37     68\n",
      "38     32\n",
      "39     48\n",
      "40     52\n",
      "41     56\n",
      "42     64\n",
      "43     66\n",
      "44     54\n",
      "45     70\n",
      "46     92\n",
      "47     93\n",
      "48    120\n",
      "49     85\n",
      "Name: dist, dtype: int64\n"
     ]
    }
   ],
   "source": [
    "print(df1['dist'])"
   ]
  },
  {
   "cell_type": "code",
   "execution_count": 41,
   "id": "d9e7100a",
   "metadata": {},
   "outputs": [
    {
     "data": {
      "text/plain": [
       "<AxesSubplot:ylabel='dist'>"
      ]
     },
     "execution_count": 41,
     "metadata": {},
     "output_type": "execute_result"
    },
    {
     "data": {
      "image/png": "[encoded data removed]",
      "text/plain": [
       "<Figure size 432x288 with 1 Axes>"
      ]
     },
     "metadata": {
      "needs_background": "light"
     },
     "output_type": "display_data"
    }
   ],
   "source": [
    "sns.boxplot(y = outlier_removed.dist)"
   ]
  },
  {
   "cell_type": "code",
   "execution_count": null,
   "id": "c048391b",
   "metadata": {},
   "outputs": [],
   "source": []
  }
 ],
 "metadata": {
  "kernelspec": {
   "display_name": "Python 3",
   "language": "python",
   "name": "python3"
  },
  "language_info": {
   "codemirror_mode": {
    "name": "ipython",
    "version": 3
   },
   "file_extension": ".py",
   "mimetype": "text/x-python",
   "name": "python",
   "nbconvert_exporter": "python",
   "pygments_lexer": "ipython3",
   "version": "3.8.8"
  }
 },
 "nbformat": 4,
 "nbformat_minor": 5
}
