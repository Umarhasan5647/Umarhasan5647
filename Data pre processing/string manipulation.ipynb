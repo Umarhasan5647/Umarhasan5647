{
 "cells": [
  {
   "cell_type": "code",
   "execution_count": 1,
   "id": "9342a147",
   "metadata": {},
   "outputs": [],
   "source": [
    "my_string= \"Grow Gratitude\""
   ]
  },
  {
   "cell_type": "code",
   "execution_count": 2,
   "id": "ccaf1f69",
   "metadata": {},
   "outputs": [
    {
     "data": {
      "text/plain": [
       "'G'"
      ]
     },
     "execution_count": 2,
     "metadata": {},
     "output_type": "execute_result"
    }
   ],
   "source": [
    "my_string[0]  #accessing the element 'G' from the string"
   ]
  },
  {
   "cell_type": "code",
   "execution_count": 3,
   "id": "bed926f4",
   "metadata": {},
   "outputs": [
    {
     "data": {
      "text/plain": [
       "14"
      ]
     },
     "execution_count": 3,
     "metadata": {},
     "output_type": "execute_result"
    }
   ],
   "source": [
    "len(my_string)  #finding length of the string"
   ]
  },
  {
   "cell_type": "code",
   "execution_count": 8,
   "id": "201f4188",
   "metadata": {},
   "outputs": [
    {
     "data": {
      "text/plain": [
       "2"
      ]
     },
     "execution_count": 8,
     "metadata": {},
     "output_type": "execute_result"
    }
   ],
   "source": [
    "my_string.count(\"G\")  #finding the count of 'G' in string"
   ]
  },
  {
   "cell_type": "code",
   "execution_count": 9,
   "id": "4fab79fd",
   "metadata": {},
   "outputs": [],
   "source": [
    "S2 = \"Being aware of single shortcoming within yourself is far more usefull than being aware of thousand in someone else\""
   ]
  },
  {
   "cell_type": "code",
   "execution_count": 17,
   "id": "850b9987",
   "metadata": {},
   "outputs": [
    {
     "data": {
      "text/plain": [
       "114"
      ]
     },
     "execution_count": 17,
     "metadata": {},
     "output_type": "execute_result"
    }
   ],
   "source": [
    "len(S2)"
   ]
  },
  {
   "cell_type": "code",
   "execution_count": 18,
   "id": "c39f947d",
   "metadata": {},
   "outputs": [],
   "source": [
    "s3 =  \"Idealistic as it may sound, altruism should be the driving force in business, not just competition and a desire for wealth\" "
   ]
  },
  {
   "cell_type": "code",
   "execution_count": 20,
   "id": "4adba796",
   "metadata": {},
   "outputs": [
    {
     "data": {
      "text/plain": [
       "'e'"
      ]
     },
     "execution_count": 20,
     "metadata": {},
     "output_type": "execute_result"
    }
   ],
   "source": [
    "s3[2] #getting one character of the word"
   ]
  },
  {
   "cell_type": "code",
   "execution_count": 21,
   "id": "b2b2c80d",
   "metadata": {},
   "outputs": [
    {
     "data": {
      "text/plain": [
       "'Ide'"
      ]
     },
     "execution_count": 21,
     "metadata": {},
     "output_type": "execute_result"
    }
   ],
   "source": [
    "s3[0:3] #getting the first three characters of the string"
   ]
  },
  {
   "cell_type": "code",
   "execution_count": 25,
   "id": "3c4618d4",
   "metadata": {},
   "outputs": [
    {
     "data": {
      "text/plain": [
       "'lth'"
      ]
     },
     "execution_count": 25,
     "metadata": {},
     "output_type": "execute_result"
    }
   ],
   "source": [
    "s3[-3:] #getting last three characters of the string"
   ]
  },
  {
   "cell_type": "code",
   "execution_count": 27,
   "id": "fb29dd49",
   "metadata": {},
   "outputs": [],
   "source": [
    "s4 = \"stay positive and optimistic\""
   ]
  },
  {
   "cell_type": "code",
   "execution_count": 62,
   "id": "76a54d9d",
   "metadata": {},
   "outputs": [
    {
     "name": "stdout",
     "output_type": "stream",
     "text": [
      "['stay positive and optimisti', '']\n"
     ]
    }
   ],
   "source": [
    "s4 = \"stay positive and optimistic\"\n",
    "if s4[0]==\"H\":\n",
    "    s4 = s4.split(\"H\")\n",
    "elif s4[27]==\"d\":\n",
    "    s4 =s4.split(\"d\")\n",
    "elif s4[27]==\"c\":\n",
    "     s4 = s4.split(\"c\")  \n",
    "print(s4)\n",
    "    \n",
    "    "
   ]
  },
  {
   "cell_type": "code",
   "execution_count": 64,
   "id": "4fbdac38",
   "metadata": {},
   "outputs": [
    {
     "name": "stdout",
     "output_type": "stream",
     "text": [
      " 🪐 \n"
     ]
    }
   ],
   "source": [
    " print(\" 🪐 \")"
   ]
  },
  {
   "cell_type": "code",
   "execution_count": 65,
   "id": "6835f072",
   "metadata": {},
   "outputs": [],
   "source": [
    "l1 =  \" 🪐 \"\n"
   ]
  },
  {
   "cell_type": "code",
   "execution_count": 70,
   "id": "a3d9864b",
   "metadata": {},
   "outputs": [
    {
     "name": "stdout",
     "output_type": "stream",
     "text": [
      " 🪐   🪐   🪐   🪐   🪐   🪐   🪐   🪐   🪐   🪐   🪐   🪐   🪐   🪐   🪐   🪐   🪐   🪐   🪐   🪐   🪐   🪐   🪐   🪐   🪐   🪐   🪐   🪐   🪐   🪐   🪐   🪐   🪐   🪐   🪐   🪐   🪐   🪐   🪐   🪐   🪐   🪐   🪐   🪐   🪐   🪐   🪐   🪐   🪐   🪐   🪐   🪐   🪐   🪐   🪐   🪐   🪐   🪐   🪐   🪐   🪐   🪐   🪐   🪐   🪐   🪐   🪐   🪐   🪐   🪐   🪐   🪐   🪐   🪐   🪐   🪐   🪐   🪐   🪐   🪐   🪐   🪐   🪐   🪐   🪐   🪐   🪐   🪐   🪐   🪐   🪐   🪐   🪐   🪐   🪐   🪐   🪐   🪐   🪐   🪐  "
     ]
    }
   ],
   "source": [
    "for i in range(0,100,1):\n",
    "    print(l1,end = \" \")         #using for loops for printing it 100 times"
   ]
  },
  {
   "cell_type": "code",
   "execution_count": 71,
   "id": "83315d2c",
   "metadata": {},
   "outputs": [],
   "source": [
    "My_string = \"Grow Gratitude\""
   ]
  },
  {
   "cell_type": "code",
   "execution_count": 84,
   "id": "2e748899",
   "metadata": {},
   "outputs": [
    {
     "data": {
      "text/plain": [
       "'Growth of Gratitude'"
      ]
     },
     "execution_count": 84,
     "metadata": {},
     "output_type": "execute_result"
    }
   ],
   "source": [
    "My_string.replace(\"Grow\",\"Growth of\",1) #using replace() function "
   ]
  },
  {
   "cell_type": "code",
   "execution_count": 90,
   "id": "c1fe118a",
   "metadata": {},
   "outputs": [],
   "source": [
    "Story = \"“.elgnuj eht otni ffo deps meht fo htoB .eerf noil eht tes ot sepor eht no dewang dna nar eh ,ylkciuQ .elbuort ni noil eht deciton dna tsap deklaw esuom eht ,nooS .repmihw ot detrats dna tuo teg ot gnilggurts saw noil ehT .eert a tsniaga pu mih deit yehT .meht htiw noil eht koot dna tserof eht otni emac sretnuh wef a ,yad enO .og mih tel dna ecnedifnoc s’esuomeht ta dehgual noil ehT ”.em evas uoy fi yademos uoy otpleh taerg fo eb lliw I ,uoyesimorp I“ .eerf mih tes ot noil eht detseuqer yletarepsed esuom eht nehw esuom eht tae ot tuoba saw eH .yrgna etiuq pu ekow eh dna ,peels s’noilehtdebrutsidsihT .nufroftsujydobsihnwoddnapugninnurdetratsesuom a nehwelgnujehtnignipeelsecno saw noil A”  \""
   ]
  },
  {
   "cell_type": "code",
   "execution_count": 92,
   "id": "7cac8ce3",
   "metadata": {},
   "outputs": [
    {
     "data": {
      "text/plain": [
       "'“.elgnuj eht otni ffo deps meht fo htoB .eerf noil eht tes ot sepor eht no dewang dna nar eh ,ylkciuQ .elbuort ni noil eht deciton dna tsap deklaw esuom eht ,nooS .repmihw ot detrats dna tuo teg ot gnilggurts saw noil ehT .eert a tsniaga pu mih deit yehT .meht htiw noil eht koot dna tserof eht otni emac sretnuh wef a ,yad enO .og mih tel dna ecnedifnoc s’esuomeht ta dehgual noil ehT ”.em evas uoy fi yademos uoy otpleh taerg fo eb lliw I ,uoyesimorp I“ .eerf mih tes ot noil eht detseuqer yletarepsed esuom eht nehw esuom eht tae ot tuoba saw eH .yrgna etiuq pu ekow eh dna ,peels s’noilehtdebrutsidsihT .nufroftsujydobsihnwoddnapugninnurdetratsesuom a nehwelgnujehtnignipeelsecno saw noil A”  '"
      ]
     },
     "execution_count": 92,
     "metadata": {},
     "output_type": "execute_result"
    }
   ],
   "source": [
    "Story"
   ]
  },
  {
   "cell_type": "code",
   "execution_count": 93,
   "id": "dbbe6c45",
   "metadata": {},
   "outputs": [],
   "source": [
    "Story = \"“.elgnuj eht otni ffo deps meht fo htoB .eerf noil eht tes ot sepor eht no dewang dna nar eh ,ylkciuQ .elbuort ni noil eht deciton dna tsap deklaw esuom eht ,nooS .repmihw ot detrats dna tuo teg ot gnilggurts saw noil ehT .eert a tsniaga pu mih deit yehT .meht htiw noil eht koot dna tserof eht otni emac sretnuh wef a ,yad enO .og mih tel dna ecnedifnoc s’esuomeht ta dehgual noil ehT ”.em evas uoy fi yademos uoy otpleh taerg fo eb lliw I ,uoyesimorp I“ .eerf mih tes ot noil eht detseuqer yletarepsed esuom eht nehw esuom eht tae ot tuoba saw eH .yrgna etiuq pu ekow eh dna ,peels s’noil eht debrutsid sihT .nuf rof tsuj ydob sih nwod dna pu gninnur detrats esuom a nehw elgnuj eht ni gnipeels ecno saw noil A”  \""
   ]
  },
  {
   "cell_type": "code",
   "execution_count": 94,
   "id": "188ce150",
   "metadata": {},
   "outputs": [],
   "source": [
    "Story1 = Story[::-1]   #reversing the whole string "
   ]
  },
  {
   "cell_type": "code",
   "execution_count": 95,
   "id": "cb971c1e",
   "metadata": {},
   "outputs": [
    {
     "data": {
      "text/plain": [
       "'  ”A lion was once sleeping in the jungle when a mouse started running up and down his body just for fun. This disturbed the lion’s sleep, and he woke up quite angry. He was about to eat the mouse when the mouse desperately requested the lion to set him free. “I promiseyou, I will be of great helpto you someday if you save me.” The lion laughed at themouse’s confidence and let him go. One day, a few hunters came into the forest and took the lion with them. They tied him up against a tree. The lion was struggling to get out and started to whimper. Soon, the mouse walked past and noticed the lion in trouble. Quickly, he ran and gnawed on the ropes to set the lion free. Both of them sped off into the jungle.“'"
      ]
     },
     "execution_count": 95,
     "metadata": {},
     "output_type": "execute_result"
    }
   ],
   "source": [
    "Story1"
   ]
  },
  {
   "cell_type": "code",
   "execution_count": 110,
   "id": "62e9e64d",
   "metadata": {},
   "outputs": [],
   "source": [
    "x = (1,2,3,4)"
   ]
  },
  {
   "cell_type": "code",
   "execution_count": 113,
   "id": "774f969c",
   "metadata": {},
   "outputs": [
    {
     "name": "stdout",
     "output_type": "stream",
     "text": [
      "0\n",
      "1\n",
      "2\n",
      "3\n"
     ]
    }
   ],
   "source": [
    "for var in x:\n",
    "    print(str(x.index(var)))"
   ]
  },
  {
   "cell_type": "code",
   "execution_count": 114,
   "id": "4c17274d",
   "metadata": {},
   "outputs": [
    {
     "name": "stdout",
     "output_type": "stream",
     "text": [
      "9\n"
     ]
    }
   ],
   "source": [
    "while i < 10:\n",
    "    print(i)\n",
    "    i = i+1"
   ]
  },
  {
   "cell_type": "code",
   "execution_count": null,
   "id": "923e7df3",
   "metadata": {},
   "outputs": [],
   "source": []
  }
 ],
 "metadata": {
  "kernelspec": {
   "display_name": "Python 3",
   "language": "python",
   "name": "python3"
  },
  "language_info": {
   "codemirror_mode": {
    "name": "ipython",
    "version": 3
   },
   "file_extension": ".py",
   "mimetype": "text/x-python",
   "name": "python",
   "nbconvert_exporter": "python",
   "pygments_lexer": "ipython3",
   "version": "3.8.8"
  }
 },
 "nbformat": 4,
 "nbformat_minor": 5
}
